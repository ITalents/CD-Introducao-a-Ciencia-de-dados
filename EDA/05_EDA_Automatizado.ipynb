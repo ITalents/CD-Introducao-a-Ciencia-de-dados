{
 "cells": [
  {
   "attachments": {},
   "cell_type": "markdown",
   "metadata": {},
   "source": [
    "# Seleção de Variáveis\n",
    "\n",
    "Autor: João Tedeschi\n",
    "\n",
    "\n",
    "[![Open In Colab](https://colab.research.google.com/assets/colab-badge.svg)](https://colab.research.google.com/github/ITalents/CD-Introducao-a-Ciencia-de-dados)"
   ]
  },
  {
   "cell_type": "code",
   "execution_count": null,
   "metadata": {},
   "outputs": [],
   "source": [
    "!git clone https://github.com/ITalents/CD-Introducao-a-Ciencia-de-dados.git"
   ]
  },
  {
   "cell_type": "code",
   "execution_count": 3,
   "metadata": {},
   "outputs": [
    {
     "name": "stdout",
     "output_type": "stream",
     "text": [
      "dados/Telco_customer_churn_services.xlsx\n",
      "dados/Telco_customer_churn_population.xlsx\n",
      "dados/Telco_customer_churn_location.xlsx\n",
      "dados/Telco_customer_churn_status.xlsx\n",
      "dados/Telco_customer_churn_demographics.xlsx\n",
      "dados/Telco_customer_churn.xlsx\n"
     ]
    }
   ],
   "source": [
    "### Execute o código sem alterar nada para carregar os dados e criar as tabelas no banco de dados DuckDB\n",
    "\n",
    "# Bibliotecas\n",
    "import pandas as pd\n",
    "import numpy as np\n",
    "import matplotlib.pyplot as plt\n",
    "import seaborn as sns\n",
    "import glob\n",
    "import re\n",
    "import duckdb\n",
    "from sklearn.cluster import KMeans\n",
    "from sklearn.preprocessing import StandardScaler\n",
    "from sklearn.decomposition import PCA\n",
    "\n",
    "\n",
    "\n",
    "\n",
    "pd.set_option('display.max_columns', None)\n",
    "pd.set_option('display.max_rows', None)\n",
    "\n",
    "# comando magic para exibir os gráficos no notebook\n",
    "%matplotlib inline\n",
    "\n",
    "\n",
    "\n",
    "def descreve_colunas(dataframe : pd.DataFrame):\n",
    "    \"\"\" Função para descrever as colunas categóricas de um dataframe. \n",
    "        Ela imprime os valores únicos e a quantidade de valores únicos de cada coluna.\n",
    "        Só aceita objetos do tipo pandas.DataFrame.\"\"\"\n",
    "    \n",
    "    # Contagem de valores unicos para colunas categoricas\n",
    "    cat_cols = [col for col in dataframe.columns if dataframe[col].dtype not in ['int64', 'float64']]\n",
    "\n",
    "    # Looping para imprimir os valores unicos de cada coluna categorica\n",
    "    print('-----------------------')\n",
    "    print('Colunas categóricas:')\n",
    "    print(cat_cols)\n",
    "    print('-----------------------')\n",
    "\n",
    "    for col in cat_cols:\n",
    "        # contém o valor ID? Se sim, não imprime\n",
    "        if not re.search('id', col, re.IGNORECASE):  \n",
    "            # distribuição de frequencia\n",
    "            print(f'Distribuição de frequência:\\n{dataframe[col].value_counts()}')\n",
    "            print(f'Valores únicos: {dataframe[col].unique()}')\n",
    "            print(f'Quantidade de valores unicos: {len(dataframe[col].unique())}')\n",
    "            print(f'Valores nulos: {dataframe[col].isnull().sum()}')\n",
    "            print('-----------------------')\n",
    "\n",
    "# Conectando-se ao banco de dados em memória do DuckDB\n",
    "duckdb_conn = duckdb.connect(database=':memory:', read_only=False)\n",
    "\n",
    "# Looping através de todos os arquivos .xlsx na pasta 'dados'\n",
    "for arquivo in glob.glob('/content/CD-Introducao-a-Ciencia-de-dados/EDA/dados/*.xlsx'):\n",
    "    # Imprimindo o nome do arquivo atual\n",
    "    print(arquivo)\n",
    "    \n",
    "    # Extraindo o nome do arquivo sem a extensão e usando como nome da tabela no banco de dados\n",
    "    nome_arquivo = arquivo.split('/')[-1].split('.')[0].split('_')[-1]\n",
    "    \n",
    "    # Lendo o arquivo Excel com o pandas e registrando-o como uma tabela no DuckDB\n",
    "    dataframe = pd.read_excel(arquivo)\n",
    "    duckdb_conn.register('tb_'+nome_arquivo, dataframe)"
   ]
  },
  {
   "cell_type": "code",
   "execution_count": null,
   "metadata": {},
   "outputs": [],
   "source": [
    "from ydata_profiling import ProfileReport"
   ]
  }
 ],
 "metadata": {
  "kernelspec": {
   "display_name": "Python 3",
   "language": "python",
   "name": "python3"
  },
  "language_info": {
   "codemirror_mode": {
    "name": "ipython",
    "version": 3
   },
   "file_extension": ".py",
   "mimetype": "text/x-python",
   "name": "python",
   "nbconvert_exporter": "python",
   "pygments_lexer": "ipython3",
   "version": "3.10.6"
  },
  "orig_nbformat": 4
 },
 "nbformat": 4,
 "nbformat_minor": 2
}
