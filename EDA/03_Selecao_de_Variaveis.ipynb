{
 "cells": [
  {
   "attachments": {},
   "cell_type": "markdown",
   "metadata": {},
   "source": [
    "# Seleção de Variáveis\n",
    "\n",
    "Autor: João Tedeschi\n",
    "\n",
    "\n",
    "[![Open In Colab](https://colab.research.google.com/assets/colab-badge.svg)](https://colab.research.google.com/github/ITalents/CD-Introducao-a-Ciencia-de-dados)"
   ]
  },
  {
   "cell_type": "code",
   "execution_count": null,
   "metadata": {},
   "outputs": [],
   "source": [
    "!git clone https://github.com/ITalents/CD-Introducao-a-Ciencia-de-dados.git"
   ]
  },
  {
   "cell_type": "code",
   "execution_count": 3,
   "metadata": {},
   "outputs": [
    {
     "name": "stdout",
     "output_type": "stream",
     "text": [
      "dados/Telco_customer_churn_services.xlsx\n",
      "dados/Telco_customer_churn_population.xlsx\n",
      "dados/Telco_customer_churn_location.xlsx\n",
      "dados/Telco_customer_churn_status.xlsx\n",
      "dados/Telco_customer_churn_demographics.xlsx\n",
      "dados/Telco_customer_churn.xlsx\n"
     ]
    }
   ],
   "source": [
    "### Execute o código sem alterar nada para carregar os dados e criar as tabelas no banco de dados DuckDB\n",
    "\n",
    "# Bibliotecas\n",
    "import pandas as pd\n",
    "import numpy as np\n",
    "import matplotlib.pyplot as plt\n",
    "import seaborn as sns\n",
    "import glob\n",
    "import re\n",
    "import duckdb\n",
    "from sklearn.cluster import KMeans\n",
    "from sklearn.preprocessing import StandardScaler\n",
    "from sklearn.decomposition import PCA\n",
    "\n",
    "\n",
    "\n",
    "\n",
    "pd.set_option('display.max_columns', None)\n",
    "pd.set_option('display.max_rows', None)\n",
    "\n",
    "# comando magic para exibir os gráficos no notebook\n",
    "%matplotlib inline\n",
    "\n",
    "\n",
    "\n",
    "def descreve_colunas(dataframe : pd.DataFrame):\n",
    "    \"\"\" Função para descrever as colunas categóricas de um dataframe. \n",
    "        Ela imprime os valores únicos e a quantidade de valores únicos de cada coluna.\n",
    "        Só aceita objetos do tipo pandas.DataFrame.\"\"\"\n",
    "    \n",
    "    # Contagem de valores unicos para colunas categoricas\n",
    "    cat_cols = [col for col in dataframe.columns if dataframe[col].dtype not in ['int64', 'float64']]\n",
    "\n",
    "    # Looping para imprimir os valores unicos de cada coluna categorica\n",
    "    print('-----------------------')\n",
    "    print('Colunas categóricas:')\n",
    "    print(cat_cols)\n",
    "    print('-----------------------')\n",
    "\n",
    "    for col in cat_cols:\n",
    "        # contém o valor ID? Se sim, não imprime\n",
    "        if not re.search('id', col, re.IGNORECASE):  \n",
    "            # distribuição de frequencia\n",
    "            print(f'Distribuição de frequência:\\n{dataframe[col].value_counts()}')\n",
    "            print(f'Valores únicos: {dataframe[col].unique()}')\n",
    "            print(f'Quantidade de valores unicos: {len(dataframe[col].unique())}')\n",
    "            print(f'Valores nulos: {dataframe[col].isnull().sum()}')\n",
    "            print('-----------------------')\n",
    "\n",
    "# Conectando-se ao banco de dados em memória do DuckDB\n",
    "duckdb_conn = duckdb.connect(database=':memory:', read_only=False)\n",
    "\n",
    "# Looping através de todos os arquivos .xlsx na pasta 'dados'\n",
    "for arquivo in glob.glob('/content/CD-Introducao-a-Ciencia-de-dados/EDA/dados/*.xlsx'):\n",
    "    # Imprimindo o nome do arquivo atual\n",
    "    print(arquivo)\n",
    "    \n",
    "    # Extraindo o nome do arquivo sem a extensão e usando como nome da tabela no banco de dados\n",
    "    nome_arquivo = arquivo.split('/')[-1].split('.')[0].split('_')[-1]\n",
    "    \n",
    "    # Lendo o arquivo Excel com o pandas e registrando-o como uma tabela no DuckDB\n",
    "    dataframe = pd.read_excel(arquivo)\n",
    "    duckdb_conn.register('tb_'+nome_arquivo, dataframe)\n",
    "\n"
   ]
  },
  {
   "attachments": {},
   "cell_type": "markdown",
   "metadata": {},
   "source": [
    "## Escolhendo Features/Variáveis com Base em Modelos de Machine Learning\n",
    "\n",
    "Referência: [Artigo Scikit-learn](https://scikit-learn.org/stable/auto_examples/feature_selection/plot_select_from_model_diabetes.html#sphx-glr-download-auto-examples-feature-selection-plot-select-from-model-diabetes-py)\n",
    "\n",
    "A seleção de variáveis é uma etapa importante da modelagem preditiva. A seleção de variáveis é o processo de selecionar um subconjunto de recursos (variáveis) que serão usados ​​para construir modelos preditivos. A seleção de variáveis é importante por vários motivos:\n",
    "\n",
    "-   Reduz o tempo de treinamento\n",
    "-   Reduz a complexidade do modelo\n",
    "-   Melhora a precisão do modelo\n",
    "-   Reduz o risco de overfitting\n",
    "\n",
    "Para ter uma ideia da importância das features, vamos usar o estimador de regressão linear [RidgeCV](https://scikit-learn.org/stable/modules/generated/sklearn.linear_model.RidgeCV.html). As features com o maior valor absoluto de coef_ são consideradas as mais importantes. Podemos observar os coeficientes diretamente sem precisar Normalizá-los (ou dimensionar os dados), porque, a partir da descrição acima, sabemos que as features já foram padronizadas.\n",
    "\n",
    "Vamos importar o conjunto de dados de Diabetes do sklearn e usar o RidgeCV para selecionar as features mais importantes.\n",
    "\n",
    "Usamos os método ``.DESCR`` para ter uma melhor descrição do conjunto de dados.\n",
    "\n",
    "Separamos os dados em ``X`` e ``y`` sendo X as features e y o target do nosso modelo.\n",
    "\n"
   ]
  },
  {
   "cell_type": "code",
   "execution_count": 4,
   "metadata": {},
   "outputs": [
    {
     "name": "stdout",
     "output_type": "stream",
     "text": [
      ".. _diabetes_dataset:\n",
      "\n",
      "Diabetes dataset\n",
      "----------------\n",
      "\n",
      "Ten baseline variables, age, sex, body mass index, average blood\n",
      "pressure, and six blood serum measurements were obtained for each of n =\n",
      "442 diabetes patients, as well as the response of interest, a\n",
      "quantitative measure of disease progression one year after baseline.\n",
      "\n",
      "**Data Set Characteristics:**\n",
      "\n",
      "  :Number of Instances: 442\n",
      "\n",
      "  :Number of Attributes: First 10 columns are numeric predictive values\n",
      "\n",
      "  :Target: Column 11 is a quantitative measure of disease progression one year after baseline\n",
      "\n",
      "  :Attribute Information:\n",
      "      - age     age in years\n",
      "      - sex\n",
      "      - bmi     body mass index\n",
      "      - bp      average blood pressure\n",
      "      - s1      tc, total serum cholesterol\n",
      "      - s2      ldl, low-density lipoproteins\n",
      "      - s3      hdl, high-density lipoproteins\n",
      "      - s4      tch, total cholesterol / HDL\n",
      "      - s5      ltg, possibly log of serum triglycerides level\n",
      "      - s6      glu, blood sugar level\n",
      "\n",
      "Note: Each of these 10 feature variables have been mean centered and scaled by the standard deviation times the square root of `n_samples` (i.e. the sum of squares of each column totals 1).\n",
      "\n",
      "Source URL:\n",
      "https://www4.stat.ncsu.edu/~boos/var.select/diabetes.html\n",
      "\n",
      "For more information see:\n",
      "Bradley Efron, Trevor Hastie, Iain Johnstone and Robert Tibshirani (2004) \"Least Angle Regression,\" Annals of Statistics (with discussion), 407-499.\n",
      "(https://web.stanford.edu/~hastie/Papers/LARS/LeastAngle_2002.pdf)\n",
      "\n"
     ]
    }
   ],
   "source": [
    "from sklearn.datasets import load_diabetes\n",
    "\n",
    "diabetes = load_diabetes()\n",
    "X, y = diabetes.data, diabetes.target\n",
    "print(diabetes.DESCR)"
   ]
  },
  {
   "attachments": {},
   "cell_type": "markdown",
   "metadata": {},
   "source": [
    "Vamos treinar nosso modelo com o estimador ``RidgeCV`` e ver quais são as features mais importantes.\n",
    "\n",
    "a ``importance`` é um array com os coeficientes de cada feature. \n",
    "\n",
    "## Regressão Linear\n",
    "\n",
    "Método dos Mínimos Quadrados\n",
    "\n",
    "A regressão linear é um método estatístico que tenta modelar a relação entre uma variável dependente e uma ou mais variáveis independentes. A regressão linear simples é quando uma variável independente é usada para estimar uma variável dependente. A regressão linear múltipla é quando várias variáveis ​​independentes são usadas para estimar uma variável dependente.\n",
    "\n",
    "A regressão linear é chamada de linear porque a relação entre as variáveis ​​independentes e dependentes é modelada com uma função linear.\n",
    "\n",
    "A regressão linear simples é chamada de simples porque existe apenas uma variável independente. Por exemplo, se estivéssemos tentando prever o preço de uma casa com base em sua área, estaríamos usando a regressão linear simples.\n",
    "\n",
    "A equação da regressão linear simples é:\n",
    "\n",
    "<!-- MathJax -->\n",
    "$$y = \\beta_0 + \\beta_1x$$\n",
    "\n",
    "\n",
    "A equação da regressão linear multivariada é:\n",
    "<!-- MathJax -->\n",
    "\n",
    "$$y = \\beta_0 + \\beta_1x_1 + \\beta_2x_2 + ... + \\beta_nx_n$$\n",
    "\n",
    "Onde:\n",
    "\n",
    "-   $y$ é a variável dependente\n",
    "-   $\\beta_0$ é o intercepto\n",
    "-   $\\beta_1$ é o coeficiente para $x_1$ (o primeiro recurso)\n",
    "-   $\\beta_n$ é o coeficiente para $x_n$ (o n-ésimo recurso)\n",
    "\n",
    "No nosso caso, temos 10 features, então a equação fica:\n",
    "\n",
    "$$y = \\beta_0 + \\beta_1x_1 + \\beta_2x_2 + ... + \\beta_{10}x_{10}$$\n",
    "\n",
    "Tendo isso em vista, podemos ver que o coeficiente $\\beta_1$ é o coeficiente da primeira feature, o $\\beta_2$ é o coeficiente da segunda feature e assim por diante.\n",
    "\n",
    "Podemos dizer então que a cada unidade que a n-ésima feature aumenta, o target aumenta em $\\beta_n$ unidades."
   ]
  },
  {
   "attachments": {},
   "cell_type": "markdown",
   "metadata": {},
   "source": [
    "Um dos métodos mais comuns para estimar os coeficientes é o método dos mínimos quadrados. Neste método, tentamos encontrar os coeficientes que minimizam a soma dos quadrados dos resíduos (também chamados de erros). O resíduo é a diferença entre o valor real e o valor previsto.\n",
    "\n",
    "A regressão linear pode ser usada para resolver problemas de regressão e classificação. Quando usada para resolver problemas de classificação, é chamada de regressão logística.\n",
    "\n",
    "No passo a passo, para se utilizar o método dos mínimos quadrados, é necessário:\n",
    "\n",
    "<!-- MathJax -->\n",
    "### Regressão Linear Simples Univariada\n",
    "\n",
    "$$\\beta = \\frac{\\sum_{i=1}^{n} (x_i - \\bar{x})(y_i - \\bar{y})}{\\sum_{i=1}^{n} (x_i - \\bar{x})^2}$$\n",
    "\n",
    "\n",
    "Onde:\n",
    "\n",
    "-   $x_i$ é o valor da feature $x$ na linha $i$\n",
    "-   $y_i$ é o valor do target $y$ na linha $i$\n",
    "-   $\\bar{x}$ é a média de todos os valores de $x$\n",
    "-   $\\bar{y}$ é a média de todos os valores de $y$\n",
    "-   $n$ é o número total de linhas\n",
    "-  $\\beta$ é o coeficiente da feature $x$\n",
    "\n",
    "\n",
    "para se calcular o intercepto $\\beta_0$:\n",
    "\n",
    "$$\\beta_0 = \\bar{y} - \\beta\\bar{x}$$\n",
    "\n",
    "\n",
    "\n",
    "\n",
    "### Regressão Linear Simples Multivariada\n",
    "\n",
    "$$\\beta = (X^TX)^{-1}X^Ty$$\n",
    "\n",
    "Onde:\n",
    "\n",
    "-   $X$ é a matriz de features\n",
    "-   $y$ é o vetor target\n",
    "-   $\\beta$ é o vetor de coeficientes\n",
    "\n"
   ]
  },
  {
   "cell_type": "code",
   "execution_count": 5,
   "metadata": {},
   "outputs": [
    {
     "data": {
      "image/png": "[encoded data removed]",
      "text/plain": [
       "<Figure size 640x480 with 1 Axes>"
      ]
     },
     "metadata": {},
     "output_type": "display_data"
    }
   ],
   "source": [
    "import matplotlib.pyplot as plt\n",
    "import numpy as np\n",
    "from sklearn.linear_model import RidgeCV\n",
    "\n",
    "ridge = RidgeCV(alphas=np.logspace(-6, 6, num=5)).fit(X, y)\n",
    "\n",
    "importance = np.abs(ridge.coef_)\n",
    "\n",
    "feature_names = np.array(diabetes.feature_names)\n",
    "plt.bar(height=importance, x=feature_names)\n",
    "plt.title(\"Importância de Features por Coeficientes\")\n",
    "plt.show()"
   ]
  },
  {
   "attachments": {},
   "cell_type": "markdown",
   "metadata": {},
   "source": [
    "Vamos importar o ``SelectFromModel`` do sklearn para selecionar as features mais importantes. "
   ]
  },
  {
   "cell_type": "code",
   "execution_count": 6,
   "metadata": {},
   "outputs": [
    {
     "name": "stdout",
     "output_type": "stream",
     "text": [
      "Features selecionadas pelo SelectFromModel: ['s1' 's5']\n"
     ]
    },
    {
     "data": {
      "text/html": [
       "<style>#sk-container-id-1 {color: black;background-color: white;}#sk-container-id-1 pre{padding: 0;}#sk-container-id-1 div.sk-toggleable {background-color: white;}#sk-container-id-1 label.sk-toggleable__label {cursor: pointer;display: block;width: 100%;margin-bottom: 0;padding: 0.3em;box-sizing: border-box;text-align: center;}#sk-container-id-1 label.sk-toggleable__label-arrow:before {content: \"▸\";float: left;margin-right: 0.25em;color: #696969;}#sk-container-id-1 label.sk-toggleable__label-arrow:hover:before {color: black;}#sk-container-id-1 div.sk-estimator:hover label.sk-toggleable__label-arrow:before {color: black;}#sk-container-id-1 div.sk-toggleable__content {max-height: 0;max-width: 0;overflow: hidden;text-align: left;background-color: #f0f8ff;}#sk-container-id-1 div.sk-toggleable__content pre {margin: 0.2em;color: black;border-radius: 0.25em;background-color: #f0f8ff;}#sk-container-id-1 input.sk-toggleable__control:checked~div.sk-toggleable__content {max-height: 200px;max-width: 100%;overflow: auto;}#sk-container-id-1 input.sk-toggleable__control:checked~label.sk-toggleable__label-arrow:before {content: \"▾\";}#sk-container-id-1 div.sk-estimator input.sk-toggleable__control:checked~label.sk-toggleable__label {background-color: #d4ebff;}#sk-container-id-1 div.sk-label input.sk-toggleable__control:checked~label.sk-toggleable__label {background-color: #d4ebff;}#sk-container-id-1 input.sk-hidden--visually {border: 0;clip: rect(1px 1px 1px 1px);clip: rect(1px, 1px, 1px, 1px);height: 1px;margin: -1px;overflow: hidden;padding: 0;position: absolute;width: 1px;}#sk-container-id-1 div.sk-estimator {font-family: monospace;background-color: #f0f8ff;border: 1px dotted black;border-radius: 0.25em;box-sizing: border-box;margin-bottom: 0.5em;}#sk-container-id-1 div.sk-estimator:hover {background-color: #d4ebff;}#sk-container-id-1 div.sk-parallel-item::after {content: \"\";width: 100%;border-bottom: 1px solid gray;flex-grow: 1;}#sk-container-id-1 div.sk-label:hover label.sk-toggleable__label {background-color: #d4ebff;}#sk-container-id-1 div.sk-serial::before {content: \"\";position: absolute;border-left: 1px solid gray;box-sizing: border-box;top: 0;bottom: 0;left: 50%;z-index: 0;}#sk-container-id-1 div.sk-serial {display: flex;flex-direction: column;align-items: center;background-color: white;padding-right: 0.2em;padding-left: 0.2em;position: relative;}#sk-container-id-1 div.sk-item {position: relative;z-index: 1;}#sk-container-id-1 div.sk-parallel {display: flex;align-items: stretch;justify-content: center;background-color: white;position: relative;}#sk-container-id-1 div.sk-item::before, #sk-container-id-1 div.sk-parallel-item::before {content: \"\";position: absolute;border-left: 1px solid gray;box-sizing: border-box;top: 0;bottom: 0;left: 50%;z-index: -1;}#sk-container-id-1 div.sk-parallel-item {display: flex;flex-direction: column;z-index: 1;position: relative;background-color: white;}#sk-container-id-1 div.sk-parallel-item:first-child::after {align-self: flex-end;width: 50%;}#sk-container-id-1 div.sk-parallel-item:last-child::after {align-self: flex-start;width: 50%;}#sk-container-id-1 div.sk-parallel-item:only-child::after {width: 0;}#sk-container-id-1 div.sk-dashed-wrapped {border: 1px dashed gray;margin: 0 0.4em 0.5em 0.4em;box-sizing: border-box;padding-bottom: 0.4em;background-color: white;}#sk-container-id-1 div.sk-label label {font-family: monospace;font-weight: bold;display: inline-block;line-height: 1.2em;}#sk-container-id-1 div.sk-label-container {text-align: center;}#sk-container-id-1 div.sk-container {/* jupyter's `normalize.less` sets `[hidden] { display: none; }` but bootstrap.min.css set `[hidden] { display: none !important; }` so we also need the `!important` here to be able to override the default hidden behavior on the sphinx rendered scikit-learn.org. See: https://github.com/scikit-learn/scikit-learn/issues/21755 */display: inline-block !important;position: relative;}#sk-container-id-1 div.sk-text-repr-fallback {display: none;}</style><div id=\"sk-container-id-1\" class=\"sk-top-container\"><div class=\"sk-text-repr-fallback\"><pre>RidgeCV(alphas=array([1.e-06, 1.e-03, 1.e+00, 1.e+03, 1.e+06]))</pre><b>In a Jupyter environment, please rerun this cell to show the HTML representation or trust the notebook. <br />On GitHub, the HTML representation is unable to render, please try loading this page with nbviewer.org.</b></div><div class=\"sk-container\" hidden><div class=\"sk-item\"><div class=\"sk-estimator sk-toggleable\"><input class=\"sk-toggleable__control sk-hidden--visually\" id=\"sk-estimator-id-1\" type=\"checkbox\" checked><label for=\"sk-estimator-id-1\" class=\"sk-toggleable__label sk-toggleable__label-arrow\">RidgeCV</label><div class=\"sk-toggleable__content\"><pre>RidgeCV(alphas=array([1.e-06, 1.e-03, 1.e+00, 1.e+03, 1.e+06]))</pre></div></div></div></div></div>"
      ],
      "text/plain": [
       "RidgeCV(alphas=array([1.e-06, 1.e-03, 1.e+00, 1.e+03, 1.e+06]))"
      ]
     },
     "execution_count": 6,
     "metadata": {},
     "output_type": "execute_result"
    }
   ],
   "source": [
    "from sklearn.feature_selection import SelectFromModel\n",
    "\n",
    "# Selecionando features com importância maior que a terceira maior importância\n",
    "threshold = np.sort(importance)[-3] + 0.01\n",
    "\n",
    "# Criando o objeto SelectFromModel e selecionando as features\n",
    "sfm = SelectFromModel(ridge, threshold=threshold).fit(X, y)\n",
    "\n",
    "\n",
    "print(f\"Features selecionadas pelo SelectFromModel: {feature_names[sfm.get_support()]}\")\n",
    "\n",
    "# treinando o modelo com as features selecionadas\n",
    "ridge.fit(sfm.transform(X), y)\n"
   ]
  },
  {
   "attachments": {},
   "cell_type": "markdown",
   "metadata": {},
   "source": [
    "## Escolhendo Features/Variáveis com Base em Correlação\n",
    "\n",
    "Vamos usar a função make_regression do sklearn para criar um conjunto de dados de regressão com 5000 amostras e 20 features. Onde a **coluna 1 é a variável dependente** e as colunas 2 a 20 são as variáveis independentes.\n",
    "\n",
    "Vamos usar o método ``.corr()`` para calcular a correlação entre as features e o target.\n",
    "\n",
    "### O Método VarianceThreshold\n",
    "\n",
    "A função sklearn.feature_selection.r_regression no scikit-learn é usada para calcular o coeficiente de correlação de Pearson entre cada recurso (regressor) e a variável alvo em um problema de regressão. Ela fornece uma pontuação que pode ser usada em um procedimento de seleção de recursos, mas não realiza a seleção de recursos por si só. A função calcula o coeficiente de correlação de Pearson para avaliar o efeito individual de cada recurso na variável alvo. No entanto, é necessário combinar essa função com outras técnicas de seleção de recursos para realizar o processo de seleção completo. Essas técnicas adicionais podem ser parte de um procedimento de seleção de recursos mais amplo.\n",
    "\n",
    "\n",
    "### Prevenindo Multicolinearidade\n",
    "\n",
    "Multicolinearidade é a situação em que duas ou mais variáveis independentes estão altamente correlacionadas entre si.\n",
    "Isso infla os coeficientes das variáveis independentes e torna os resultados instáveis. Diminuindo a precisão do modelo."
   ]
  },
  {
   "cell_type": "code",
   "execution_count": 21,
   "metadata": {},
   "outputs": [
    {
     "data": {
      "text/plain": [
       "target    1.000000\n",
       "bmi       0.586450\n",
       "s5        0.565883\n",
       "bp        0.441482\n",
       "s4        0.430453\n",
       "s6        0.382483\n",
       "s1        0.212022\n",
       "age       0.187889\n",
       "s2        0.174054\n",
       "sex       0.043062\n",
       "s3       -0.394789\n",
       "Name: target, dtype: float64"
      ]
     },
     "execution_count": 21,
     "metadata": {},
     "output_type": "execute_result"
    }
   ],
   "source": [
    "# reproduce SelectKBest from scratch\n",
    "df_diabetes = pd.DataFrame(diabetes.data, columns=diabetes.feature_names)\n",
    "df_diabetes['target'] = diabetes.target\n",
    "\n",
    "df_diabetes.corr().sort_values('target', ascending=False)['target']"
   ]
  },
  {
   "cell_type": "code",
   "execution_count": 22,
   "metadata": {},
   "outputs": [
    {
     "name": "stdout",
     "output_type": "stream",
     "text": [
      "(442, 10)\n",
      "(442, 6)\n",
      "As variáveis selecionadas foram: ['bmi' 'bp' 's1' 's4' 's5' 's6']\n"
     ]
    }
   ],
   "source": [
    "from sklearn.datasets import make_regression\n",
    "from sklearn.feature_selection import VarianceThreshold\n",
    "from sklearn.feature_selection import SelectKBest\n",
    "from sklearn.feature_selection import r_regression\n",
    "\n",
    "selector = SelectKBest(r_regression, k=6)\n",
    "\n",
    "\n",
    "X_new = selector.fit_transform(X, y)\n",
    "\n",
    "# comparando as formas dos dados\n",
    "print(X.shape)\n",
    "print(X_new.shape)\n",
    "\n",
    "# transformando o array em um dataframe\n",
    "X_df = pd.DataFrame(X, columns=feature_names)\n",
    "\n",
    "# colunas selecionadas\n",
    "colunas_selecionadas = X_df.columns[selector.get_support()]\n",
    "\n",
    "print(f\"As variáveis selecionadas foram: {colunas_selecionadas.values}\")\n",
    "\n",
    "\n"
   ]
  }
 ],
 "metadata": {
  "kernelspec": {
   "display_name": "Python 3",
   "language": "python",
   "name": "python3"
  },
  "language_info": {
   "codemirror_mode": {
    "name": "ipython",
    "version": 3
   },
   "file_extension": ".py",
   "mimetype": "text/x-python",
   "name": "python",
   "nbconvert_exporter": "python",
   "pygments_lexer": "ipython3",
   "version": "3.10.6"
  },
  "orig_nbformat": 4
 },
 "nbformat": 4,
 "nbformat_minor": 2
}
