{
 "cells": [
  {
   "attachments": {},
   "cell_type": "markdown",
   "metadata": {},
   "source": [
    "# Exercícios do Módulo de Introdução a Análise de Exploratória de Dados\n",
    "\n",
    "[![Open In Colab](https://colab.research.google.com/assets/colab-badge.svg)](https://colab.research.google.com/github/ITalents/CD-Introducao-a-Ciencia-de-dados)\n",
    "\n",
    "Execute o código abaixo para importar as bibliotecas e funções necessárias para a resolução dos exercícios.\n",
    "\n",
    "Caso precise instalar alguma biblioteca, utilize o comando `!pip install pandas numpy matplotlib seaborn duckdb plotly` numa célula de python no Jupyter Notebook."
   ]
  },
  {
   "cell_type": "code",
   "execution_count": null,
   "metadata": {},
   "outputs": [],
   "source": [
    "!git clone https://github.com/ITalents/CD-Introducao-a-Ciencia-de-dados.git"
   ]
  },
  {
   "cell_type": "code",
   "execution_count": null,
   "metadata": {},
   "outputs": [],
   "source": [
    "### Execute o código sem alterar nada para carregar os dados e criar as tabelas no banco de dados DuckDB\n",
    "\n",
    "# Bibliotecas\n",
    "import pandas as pd\n",
    "import numpy as np\n",
    "import matplotlib.pyplot as plt\n",
    "import seaborn as sns\n",
    "import glob\n",
    "import re\n",
    "import duckdb\n",
    "from sklearn.cluster import KMeans\n",
    "from sklearn.preprocessing import StandardScaler\n",
    "from sklearn.decomposition import PCA\n",
    "\n",
    "\n",
    "\n",
    "\n",
    "pd.set_option('display.max_columns', None)\n",
    "pd.set_option('display.max_rows', None)\n",
    "\n",
    "# comando magic para exibir os gráficos no notebook\n",
    "%matplotlib inline\n",
    "\n",
    "\n",
    "\n",
    "def descreve_colunas(dataframe : pd.DataFrame):\n",
    "    \"\"\" Função para descrever as colunas categóricas de um dataframe. \n",
    "        Ela imprime os valores únicos e a quantidade de valores únicos de cada coluna.\n",
    "        Só aceita objetos do tipo pandas.DataFrame.\"\"\"\n",
    "    \n",
    "    # Contagem de valores unicos para colunas categoricas\n",
    "    cat_cols = [col for col in dataframe.columns if dataframe[col].dtype not in ['int64', 'float64']]\n",
    "\n",
    "    # Looping para imprimir os valores unicos de cada coluna categorica\n",
    "    print('-----------------------')\n",
    "    print('Colunas categóricas:')\n",
    "    print(cat_cols)\n",
    "    print('-----------------------')\n",
    "\n",
    "    for col in cat_cols:\n",
    "        # contém o valor ID? Se sim, não imprime\n",
    "        if not re.search('id', col, re.IGNORECASE):  \n",
    "            # distribuição de frequencia\n",
    "            print(f'Distribuição de frequência:\\n{dataframe[col].value_counts()}')\n",
    "            print(f'Valores únicos: {dataframe[col].unique()}')\n",
    "            print(f'Quantidade de valores unicos: {len(dataframe[col].unique())}')\n",
    "            print(f'Valores nulos: {dataframe[col].isnull().sum()}')\n",
    "            print('-----------------------')\n",
    "\n",
    "# Conectando-se ao banco de dados em memória do DuckDB\n",
    "duckdb_conn = duckdb.connect(database=':memory:', read_only=False)\n",
    "\n",
    "# Looping através de todos os arquivos .xlsx na pasta 'dados'\n",
    "for arquivo in glob.glob('/content/CD-Introducao-a-Ciencia-de-dados/EDA/dados/*.xlsx'):\n",
    "    # Imprimindo o nome do arquivo atual\n",
    "    print(arquivo)\n",
    "    \n",
    "    # Extraindo o nome do arquivo sem a extensão e usando como nome da tabela no banco de dados\n",
    "    nome_arquivo = arquivo.split('/')[-1].split('.')[0].split('_')[-1]\n",
    "    \n",
    "    # Lendo o arquivo Excel com o pandas e registrando-o como uma tabela no DuckDB\n",
    "    dataframe = pd.read_excel(arquivo)\n",
    "    duckdb_conn.register('tb_'+nome_arquivo, dataframe)\n",
    "\n",
    "\n"
   ]
  },
  {
   "attachments": {},
   "cell_type": "markdown",
   "metadata": {},
   "source": []
  },
  {
   "attachments": {},
   "cell_type": "markdown",
   "metadata": {},
   "source": [
    "### Exercício 1\n",
    "\n",
    "Como visto no Notebook `01_Introducao_a_EDA.ipynb`, realizamos uma query para obter os dados da tabela `tb_services` do banco de dados que foi instanciado acima.\n",
    "\n",
    "Faça o mesmo procedimento para outras tabelas do banco de dados:\n",
    "- `tb_demographics`\n",
    "- `tb_population`\n",
    "- `tb_location`\n",
    "- `tb_status`"
   ]
  },
  {
   "cell_type": "code",
   "execution_count": null,
   "metadata": {},
   "outputs": [],
   "source": [
    "query = \"\"\"Escreva aqui a sua query!\"\"\""
   ]
  },
  {
   "cell_type": "code",
   "execution_count": null,
   "metadata": {},
   "outputs": [],
   "source": [
    "# Executando a query e armazenando o resultado em um DataFrame\n",
    "nome_da_tabela = duckdb_conn.execute(query).fetch_df()\n",
    "\n",
    "# o Método .head() exibe as 5 primeiras linhas do DataFrame\n",
    "nome_da_tabela.head()"
   ]
  },
  {
   "attachments": {},
   "cell_type": "markdown",
   "metadata": {},
   "source": [
    "## Exercício 2\n",
    "\n",
    "### Item a)\n",
    "\n",
    "Quantas linhas e colunas existem nas tabelas?"
   ]
  },
  {
   "cell_type": "code",
   "execution_count": null,
   "metadata": {},
   "outputs": [],
   "source": [
    "#### Coloque seu código aqui ####"
   ]
  },
  {
   "attachments": {},
   "cell_type": "markdown",
   "metadata": {},
   "source": [
    "### Item b)\n",
    "\n",
    "Quais são os tipos de dados de cada coluna das tabelas?"
   ]
  },
  {
   "cell_type": "code",
   "execution_count": null,
   "metadata": {},
   "outputs": [],
   "source": [
    "#### Coloque seu código aqui ####"
   ]
  },
  {
   "attachments": {},
   "cell_type": "markdown",
   "metadata": {},
   "source": [
    "## Exercício 3\n",
    "\n",
    "Calcule a média, mediana, desvio padrão, valor mínimo e valor máximo de cada coluna numérica da tabela `tb_population`."
   ]
  },
  {
   "cell_type": "code",
   "execution_count": null,
   "metadata": {},
   "outputs": [],
   "source": [
    "#### Coloque seu código aqui ####"
   ]
  },
  {
   "attachments": {},
   "cell_type": "markdown",
   "metadata": {},
   "source": [
    "## Exercício 4\n",
    "\n",
    "Utilizando a tabela `tb_location`, responda as seguintes perguntas:\n",
    "\n",
    "### Item a)\n",
    "\n",
    "Quantos estados existem na tabela? \n",
    "Dica: Utilize a função `unique` do pandas para obter os valores únicos de uma coluna. Ou a função `descreve_colunas` definida pelo professor.\n",
    "\n",
    "### Item b)\n",
    "\n",
    "Quantas cidades existem na tabela?\n",
    "\n",
    "### Item c)\n",
    "\n",
    "Quantas cidades existem em cada estado? Ordene o resultado em ordem decrescente.\n",
    "\n",
    "Dica: Utilize a função `groupby` do pandas e a função `count` para contar o número de cidades em cada estado, para ordenar o resultado, utilize a função `sort_values`. Pode pesquisar sobre essas funções na [documentação do pandas](https://pandas.pydata.org/pandas-docs/stable/reference/api/pandas.DataFrame.groupby.html).\n"
   ]
  },
  {
   "attachments": {},
   "cell_type": "markdown",
   "metadata": {},
   "source": [
    "## Exercício 5\n",
    "Faça a análise univariada das colunas numéricas da tabela `services`, utilizando histogramas e boxplots.\n",
    "\n",
    "## Exercício 6\n",
    "Faça a análise univariada das colunas categóricas da tabela `services`, utilizando gráficos de barras.\n"
   ]
  },
  {
   "attachments": {},
   "cell_type": "markdown",
   "metadata": {},
   "source": [
    "## DESAFIO 1 💣 (opcional)\n",
    "\n",
    "Implemente uma função que receba duas séries e retorne o coeficiente de correlação entre elas.\n",
    "\n",
    "Dica 0: Pesquise como implementar funções no python.\n",
    "\n",
    "Dica 1: Pesquise sobre a função `corr` do pandas.\n",
    "\n",
    "Dica 2: Pesquise sobre a fórmula do coeficiente de correlação de Pearson.\n",
    "\n",
    "Dica 3: Utilize Numpy arrays para realizar os cálculos.\n",
    "\n",
    "O resultado deve ser o mesmo da função `corr` do pandas.\n"
   ]
  },
  {
   "cell_type": "code",
   "execution_count": null,
   "metadata": {},
   "outputs": [],
   "source": [
    "#### Coloque seu código aqui ####"
   ]
  },
  {
   "attachments": {},
   "cell_type": "markdown",
   "metadata": {},
   "source": [
    "## Exercício 7\n",
    "\n",
    "### Item a)\n",
    "\n",
    "Faça a análise bivariada das colunas numéricas da tabela `tb_demographics`, utilizando gráficos de dispersão.\n",
    "\n",
    "### Item b)\n",
    "\n",
    "Faça a análise bivariada de uma variável categorica contra uma numérica da tabela `tb_demographics`, usando boxplots."
   ]
  },
  {
   "cell_type": "code",
   "execution_count": null,
   "metadata": {},
   "outputs": [],
   "source": [
    "#### Coloque seu código aqui ####"
   ]
  },
  {
   "attachments": {},
   "cell_type": "markdown",
   "metadata": {},
   "source": [
    "## Exercício 8\n",
    "\n",
    "### Item a)\n",
    "\n",
    "Quantas colunas tem valores nulos na tabela `tb_status`?\n",
    "\n",
    "### Item b)\n",
    "\n",
    "Quantos valores nulos existem em cada coluna da tabela `tb_status`?\n",
    "\n",
    "### Item c)\n",
    "\n",
    "Remova as linhas que possuem valores nulos na tabela `tb_status` e salve o resultado em uma nova tabela chamada `tb_status_sem_nulos`."
   ]
  },
  {
   "cell_type": "code",
   "execution_count": null,
   "metadata": {},
   "outputs": [],
   "source": [
    "#### Coloque seu código aqui ####"
   ]
  },
  {
   "attachments": {},
   "cell_type": "markdown",
   "metadata": {},
   "source": [
    "## Exercício 9 \n",
    "\n",
    "Realize a separação das variáveis numéricas antes de realizar a normalização.\n",
    "\n",
    "### Item a)\n",
    "\n",
    "Aplique a normalização com o StandardScaler na tabela `tb_services` e salve o resultado em uma nova tabela chamada `tb_services_normalizada`.\n",
    "\n",
    "### Item b)\n",
    "\n",
    "Aplique uma transformação logarítmica na coluna `population` da tabela `tb_population` e salve o resultado em uma nova tabela chamada `tb_demographics_log`.\n",
    "\n",
    "### Item c)\n",
    "\n",
    "Aplique a normalização com o MinMaxScaler na tabela `tb_status` e salve o resultado em uma nova tabela chamada `tb_status_normalizada_minmax`.\n",
    "\n",
    "Dica: Pesquise sobre a função `MinMaxScaler` do sklearn."
   ]
  },
  {
   "cell_type": "code",
   "execution_count": null,
   "metadata": {},
   "outputs": [],
   "source": [
    "### coloque seu código aqui ###"
   ]
  },
  {
   "cell_type": "code",
   "execution_count": null,
   "metadata": {},
   "outputs": [],
   "source": [
    "### coloque seu código aqui ###"
   ]
  },
  {
   "attachments": {},
   "cell_type": "markdown",
   "metadata": {},
   "source": [
    "## Exercício 10\n",
    "\n",
    "Realize a separação das variáveis categóricas antes de realizar o encoding.\n",
    "\n",
    "### Item a)\n",
    "\n",
    "Aplique o encoding com o OneHotEncoder na tabela `tb_location` e salve o resultado em uma nova tabela chamada `tb_location_encoded`.\n",
    "\n",
    "### Item b)\n",
    "\n",
    "Quantas colunas foram criadas após o encoding?"
   ]
  },
  {
   "attachments": {},
   "cell_type": "markdown",
   "metadata": {},
   "source": [
    "## DESAFIO 2 💣 (opcional)\n",
    "\n",
    "Aplique o Count Frequency Encoding ou Count Encoding na tabela `tb_location` e salve o resultado em uma nova tabela chamada `tb_location_encoded_freq`.\n",
    "\n",
    "Dica: Referência do [Count Frequency Encoding](https://feature-engine.trainindata.com/en/1.2.x/api_doc/encoding/CountFrequencyEncoder.html) e [Count Encoding](https://contrib.scikit-learn.org/category_encoders/count.html).:"
   ]
  },
  {
   "cell_type": "code",
   "execution_count": null,
   "metadata": {},
   "outputs": [],
   "source": []
  }
 ],
 "metadata": {
  "kernelspec": {
   "display_name": "Python 3",
   "language": "python",
   "name": "python3"
  },
  "language_info": {
   "codemirror_mode": {
    "name": "ipython",
    "version": 3
   },
   "file_extension": ".py",
   "mimetype": "text/x-python",
   "name": "python",
   "nbconvert_exporter": "python",
   "pygments_lexer": "ipython3",
   "version": "3.10.6"
  },
  "orig_nbformat": 4
 },
 "nbformat": 4,
 "nbformat_minor": 2
}
