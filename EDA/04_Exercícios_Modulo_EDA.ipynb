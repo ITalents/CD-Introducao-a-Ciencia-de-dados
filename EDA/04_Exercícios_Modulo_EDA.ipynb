{
 "cells": [
  {
   "cell_type": "code",
   "execution_count": null,
   "metadata": {},
   "outputs": [],
   "source": [
    "import pandas as pd\n",
    "import numpy as np\n",
    "import matplotlib.pyplot as plt\n",
    "import seaborn as sns\n",
    "import glob\n",
    "\n",
    "\n",
    "pd.set_option('display.max_columns', None)\n",
    "pd.set_option('display.max_rows', None)\n",
    "\n",
    "%matplotlib inline\n",
    "\n",
    "# Importando a biblioteca DuckDB\n",
    "import duckdb\n",
    "\n",
    "# Conectando-se ao banco de dados em memória do DuckDB\n",
    "duckdb_conn = duckdb.connect(database=':memory:', read_only=False)\n",
    "\n",
    "# Looping através de todos os arquivos .xlsx na pasta 'dados'\n",
    "for arquivo in glob.glob('dados/*.xlsx'):\n",
    "    # Imprimindo o nome do arquivo atual\n",
    "    print(arquivo)\n",
    "    \n",
    "    # Extraindo o nome do arquivo sem a extensão e usando como nome da tabela no banco de dados\n",
    "    nome_arquivo = arquivo.split('/')[1].split('.')[0].split('_')[-1]\n",
    "    \n",
    "    # Lendo o arquivo Excel com o pandas e registrando-o como uma tabela no DuckDB\n",
    "    dataframe = pd.read_excel(arquivo)\n",
    "    duckdb_conn.register('tb_'+nome_arquivo, dataframe)\n",
    "\n",
    "\n"
   ]
  },
  {
   "attachments": {},
   "cell_type": "markdown",
   "metadata": {},
   "source": [
    "### Exercício 1\n",
    "Como visto no Notebook `01_Introducao_a_EDA.ipynb`, realizamos uma query para obter os dados da tabela `tb_services` do banco de dados `db_healthcare`.\n",
    "\n",
    "Faça o mesmo procedimento para outras tabelas do banco de dados:\n",
    "- `tb_demographics`\n",
    "- `tb_population`\n",
    "- `tb_location`\n",
    "- `tb_status`\n",
    "\n"
   ]
  },
  {
   "cell_type": "code",
   "execution_count": null,
   "metadata": {},
   "outputs": [],
   "source": [
    "query = \"\"\"ESCREVA AQUI SUA QUERY\"\"\""
   ]
  },
  {
   "cell_type": "code",
   "execution_count": null,
   "metadata": {},
   "outputs": [],
   "source": [
    "# Executando a query e armazenando o resultado em um DataFrame\n",
    "nome_da_tabela = duckdb_conn.execute(query).fetch_df()\n",
    "\n",
    "# o Método .head() exibe as 5 primeiras linhas do DataFrame\n",
    "nome_da_tabela.head()"
   ]
  }
 ],
 "metadata": {
  "language_info": {
   "name": "python"
  },
  "orig_nbformat": 4
 },
 "nbformat": 4,
 "nbformat_minor": 2
}
