{
 "cells": [
  {
   "attachments": {},
   "cell_type": "markdown",
   "metadata": {},
   "source": [
    "# Introdução a Análise Exploratória de Dados (EDA)\n",
    "* Autor: João Tedeschi \n",
    "\n",
    "[![Open In Colab](https://colab.research.google.com/assets/colab-badge.svg)](https://colab.research.google.com/github/ITalents/CD-Introducao-a-Ciencia-de-dados)\n",
    "\n",
    "Caso precise instalar alguma biblioteca, utilize o comando `!pip install pandas numpy matplotlib seaborn duckdb plotly` numa célula de python no Jupyter Notebook."
   ]
  },
  {
   "attachments": {},
   "cell_type": "markdown",
   "metadata": {},
   "source": [
    "A __Análise Exploratória de Dados (EDA)__ é uma abordagem para analisar dados para resumir suas principais características, geralmente com métodos de estatística descritiva e métodos visuais. Um dos principais objetivos da EDA é obter uma melhor compreensão dos dados e do que eles podem nos dizer sobre os fenômenos que eles representam.\n",
    "\n",
    "Além disso, a EDA é uma boa maneira de detectar erros e anomalias nos dados, como valores ausentes ou discrepantes, e também é uma boa maneira de obter uma ideia de quais modelos podem ser adequados para os dados.\n",
    "\n",
    "A EDA é uma parte importante do processo de modelagem de dados, pois ajuda a garantir que os dados sejam adequados para o modelo que você deseja ajustar. Se você não fizer uma EDA, poderá acabar com um modelo que não se ajusta bem aos dados ou, pior, com um modelo que se ajusta bem aos dados que você tem, mas não aos dados que você deseja prever.\n",
    "\n",
    "Dito isso vamos começar a nossa EDA. Primeiro vamos importar as bibliotecas que vamos utilizar."
   ]
  },
  {
   "cell_type": "code",
   "execution_count": null,
   "metadata": {},
   "outputs": [],
   "source": [
    "!git clone https://github.com/ITalents/CD-Introducao-a-Ciencia-de-dados.git"
   ]
  },
  {
   "attachments": {},
   "cell_type": "markdown",
   "metadata": {},
   "source": [
    "## Importando as bibliotecas"
   ]
  },
  {
   "cell_type": "code",
   "execution_count": null,
   "metadata": {},
   "outputs": [],
   "source": [
    "import pandas as pd\n",
    "import numpy as np\n",
    "import matplotlib.pyplot as plt\n",
    "import seaborn as sns\n",
    "import glob"
   ]
  },
  {
   "attachments": {},
   "cell_type": "markdown",
   "metadata": {},
   "source": [
    "Configurando a visualização do `pandas` para mostrar todas as colunas\n",
    "\n",
    "```python\n",
    "pd.set_option('display.max_columns', None)\n",
    "pd.set_option('display.max_rows', None)\n",
    "    \n",
    "```\n",
    "\n"
   ]
  },
  {
   "cell_type": "code",
   "execution_count": null,
   "metadata": {},
   "outputs": [],
   "source": [
    "pd.set_option('display.max_columns', None)\n",
    "pd.set_option('display.max_rows', None)\n",
    "\n",
    "%matplotlib inline\n"
   ]
  },
  {
   "attachments": {},
   "cell_type": "markdown",
   "metadata": {},
   "source": [
    "## Bibliotecas\n",
    "\n",
    "<!-- tabela com nome e uso de bibliotecas -->\n",
    "\n",
    "Em resumo, as bibliotecas que vamos utilizar são:\n",
    "\n",
    "| Biblioteca | Uso |\n",
    "| --- | --- |\n",
    "| [pandas](https://pandas.pydata.org/docs/getting_started/index.html) | Manipulação e análise de dados |\n",
    "| [numpy](https://numpy.org/doc/stable/) | Manipulação de arrays e matrizes multidimensionais |\n",
    "| [matplotlib](https://matplotlib.org/) | Visualização de dados |\n",
    "| [seaborn](https://seaborn.pydata.org/) | Visualização de dados |\n",
    "| [glob](https://docs.python.org/3/library/glob.html) | Manipulação de arquivos e diretórios |\n",
    "| [duckdb](https://duckdb.org/docs/api/python/dbapi) | Banco de dados relacional |\n",
    "\n",
    "---\n",
    "### Resumo\n",
    "\n",
    "__Pandas__\n",
    "\n",
    "Pandas é uma biblioteca de código aberto que fornece estruturas de dados e ferramentas de análise de dados de alto desempenho e fáceis de usar para a linguagem de programação Python.\n",
    "\n",
    "__Numpy__\n",
    "\n",
    "Numpy é uma biblioteca para a linguagem Python que suporta arrays e matrizes multidimensionais, possuindo uma larga coleção de funções matemáticas para trabalhar com estas estruturas. Além disso, numpy possui um conjunto amplo de funções matemáticas de alto nível que operam nestes arrays.\n",
    "\n",
    "__Matplotlib__\n",
    "\n",
    "Matplotlib é uma biblioteca de software para criação de gráficos e visualizações de dados em geral, feita para e da linguagem de programação Python e sua extensão de matemática NumPy.\n",
    "\n",
    "__Seaborn__\n",
    "\n",
    "Seaborn é uma biblioteca de visualização de dados Python baseada em matplotlib. Ele fornece uma interface de alto nível para desenhar gráficos estatísticos atraentes e informativos.\n",
    "\n",
    "__Glob__\n",
    "\n",
    "Glob é um módulo nativo do python que fornece uma função para criar listas de arquivos a partir de buscas em diretórios usando caracteres curinga. Ele é usado para encontrar arquivos e diretórios correspondentes a um determinado padrão, como quando você está trabalhando com vários arquivos de dados.\n",
    "\n",
    "__Duckdb__\n",
    "\n",
    "Duckdb é uma biblioteca de banco de dados relacional que pode ser utilizada para armazenar e manipular dados. Ela é uma alternativa ao SQLite, porém com algumas vantagens, como por exemplo, ser mais rápida e possuir suporte a tipos de dados mais complexos.\n",
    "\n"
   ]
  },
  {
   "attachments": {},
   "cell_type": "markdown",
   "metadata": {},
   "source": [
    "## Importando os dados\n",
    "\n",
    "Para realizar a EDA vamos utilizar um conjunto de dados de um estudo de caso de uma empresa de telecomunicações. O conjunto de dados contém informações sobre clientes de uma empresa de telecomunicações e se eles deixaram a empresa (churn). O conjunto de dados também contém informações sobre os serviços que cada cliente assinou, como telefone, várias linhas, internet, segurança online, backup online, proteção de dispositivo, suporte técnico e streaming de TV e filmes. Por fim, há informações demográficas sobre os clientes, como sexo, faixa etária e se eles têm parceiros e dependentes. Fonte: IBM\n",
    "\n",
    "Vamos importar os dados utilizando a biblioteca pandas.\n",
    "\n",
    "__Referência para Download:__ [Kaggle](https://www.kaggle.com/datasets/ylchang/telco-customer-churn-1113)"
   ]
  },
  {
   "cell_type": "code",
   "execution_count": null,
   "metadata": {},
   "outputs": [],
   "source": [
    "# Importando a biblioteca DuckDB\n",
    "import duckdb\n",
    "\n",
    "# Conectando-se ao banco de dados em memória do DuckDB\n",
    "duckdb_conn = duckdb.connect(database=':memory:', read_only=False)\n",
    "\n",
    "# Looping através de todos os arquivos .xlsx na pasta 'dados'\n",
    "for arquivo in glob.glob('/content/CD-Introducao-a-Ciencia-de-dados/EDA/dados/*.xlsx'):\n",
    "    # Imprimindo o nome do arquivo atual\n",
    "    print(arquivo)\n",
    "    \n",
    "    # Extraindo o nome do arquivo sem a extensão e usando como nome da tabela no banco de dados\n",
    "    nome_arquivo = arquivo.split('/')[1].split('.')[0].split('_')[-1]\n",
    "    \n",
    "    # Lendo o arquivo Excel com o pandas e registrando-o como uma tabela no DuckDB\n",
    "    dataframe = pd.read_excel(arquivo)\n",
    "    duckdb_conn.register('tb_'+nome_arquivo, dataframe)\n",
    "\n"
   ]
  },
  {
   "attachments": {},
   "cell_type": "markdown",
   "metadata": {},
   "source": [
    "## Inspecionando dados\n",
    "\n",
    "Agora que subimos os dados para o banco de dados, vamos inspecionar os dados para ver suas características. Para isso, vamos realizar algumas consultas (ou *queries*) em `SQL`.\n",
    "\n",
    "<!-- explicando um SELECT básico -->\n",
    "\n",
    "```sql\n",
    "SELECT * FROM tb_services;\n",
    "```\n",
    "\n",
    "Essa query está selecionando todas (denotado pelo *wildcard* `*` ) as colunas e linhas da tabela `tb_services`.\n",
    "\n",
    "Usando a conexão com o banco DuckDB instanciada como `duckdb_conn` e o método `execute()` podemos executar a query e armazenar o resultado em um dataframe do pandas.\n",
    "\n",
    "\n",
    "o Método `info()` do pandas mostra informações sobre o dataframe, como o nome das colunas, o tipo de dado de cada coluna e a quantidade de valores não nulos.\n"
   ]
  },
  {
   "cell_type": "code",
   "execution_count": null,
   "metadata": {},
   "outputs": [],
   "source": [
    "# Criando uma query para extrair os dados de todas as tabelas\n",
    "# Excluindo a coluna 'Count' das tabelas\n",
    "\n",
    "query = \"\"\"\n",
    "SELECT * EXCLUDE (Count) FROM tb_status\n",
    "LEFT JOIN tb_services USING (\"Customer ID\")\n",
    "LEFT JOIN tb_demographics USING (\"Customer ID\")\n",
    "LEFT JOIN tb_location USING (\"Customer ID\")\n",
    "LEFT JOIN tb_population USING (\"Zip Code\")\n",
    "\"\"\"\n"
   ]
  },
  {
   "cell_type": "code",
   "execution_count": null,
   "metadata": {},
   "outputs": [],
   "source": [
    "# Executando a query e armazenando o resultado em um DataFrame\n",
    "dataframe_telco = duckdb_conn.execute(query).fetch_df()\n",
    "\n",
    "# o Método .head() exibe as 5 primeiras linhas do DataFrame\n",
    "dataframe_telco.head()"
   ]
  },
  {
   "cell_type": "code",
   "execution_count": 11,
   "metadata": {},
   "outputs": [
    {
     "name": "stdout",
     "output_type": "stream",
     "text": [
      "<class 'pandas.core.frame.DataFrame'>\n",
      "RangeIndex: 7043 entries, 0 to 7042\n",
      "Data columns (total 30 columns):\n",
      " #   Column                             Non-Null Count  Dtype  \n",
      "---  ------                             --------------  -----  \n",
      " 0   Customer ID                        7043 non-null   object \n",
      " 1   Count                              7043 non-null   int64  \n",
      " 2   Quarter                            7043 non-null   object \n",
      " 3   Referred a Friend                  7043 non-null   object \n",
      " 4   Number of Referrals                7043 non-null   int64  \n",
      " 5   Tenure in Months                   7043 non-null   int64  \n",
      " 6   Offer                              3166 non-null   object \n",
      " 7   Phone Service                      7043 non-null   object \n",
      " 8   Avg Monthly Long Distance Charges  7043 non-null   float64\n",
      " 9   Multiple Lines                     7043 non-null   object \n",
      " 10  Internet Service                   7043 non-null   object \n",
      " 11  Internet Type                      5517 non-null   object \n",
      " 12  Avg Monthly GB Download            7043 non-null   int64  \n",
      " 13  Online Security                    7043 non-null   object \n",
      " 14  Online Backup                      7043 non-null   object \n",
      " 15  Device Protection Plan             7043 non-null   object \n",
      " 16  Premium Tech Support               7043 non-null   object \n",
      " 17  Streaming TV                       7043 non-null   object \n",
      " 18  Streaming Movies                   7043 non-null   object \n",
      " 19  Streaming Music                    7043 non-null   object \n",
      " 20  Unlimited Data                     7043 non-null   object \n",
      " 21  Contract                           7043 non-null   object \n",
      " 22  Paperless Billing                  7043 non-null   object \n",
      " 23  Payment Method                     7043 non-null   object \n",
      " 24  Monthly Charge                     7043 non-null   float64\n",
      " 25  Total Charges                      7043 non-null   float64\n",
      " 26  Total Refunds                      7043 non-null   float64\n",
      " 27  Total Extra Data Charges           7043 non-null   int64  \n",
      " 28  Total Long Distance Charges        7043 non-null   float64\n",
      " 29  Total Revenue                      7043 non-null   float64\n",
      "dtypes: float64(6), int64(5), object(19)\n",
      "memory usage: 1.6+ MB\n"
     ]
    }
   ],
   "source": []
  },
  {
   "cell_type": "code",
   "execution_count": 15,
   "metadata": {},
   "outputs": [
    {
     "name": "stdout",
     "output_type": "stream",
     "text": [
      "<class 'pandas.core.frame.DataFrame'>\n",
      "RangeIndex: 7043 entries, 0 to 7042\n",
      "Data columns (total 30 columns):\n",
      " #   Column                             Non-Null Count  Dtype  \n",
      "---  ------                             --------------  -----  \n",
      " 0   Customer ID                        7043 non-null   object \n",
      " 1   Count                              7043 non-null   int64  \n",
      " 2   Quarter                            7043 non-null   object \n",
      " 3   Referred a Friend                  7043 non-null   object \n",
      " 4   Number of Referrals                7043 non-null   int64  \n",
      " 5   Tenure in Months                   7043 non-null   int64  \n",
      " 6   Offer                              3166 non-null   object \n",
      " 7   Phone Service                      7043 non-null   object \n",
      " 8   Avg Monthly Long Distance Charges  7043 non-null   float64\n",
      " 9   Multiple Lines                     7043 non-null   object \n",
      " 10  Internet Service                   7043 non-null   object \n",
      " 11  Internet Type                      5517 non-null   object \n",
      " 12  Avg Monthly GB Download            7043 non-null   int64  \n",
      " 13  Online Security                    7043 non-null   object \n",
      " 14  Online Backup                      7043 non-null   object \n",
      " 15  Device Protection Plan             7043 non-null   object \n",
      " 16  Premium Tech Support               7043 non-null   object \n",
      " 17  Streaming TV                       7043 non-null   object \n",
      " 18  Streaming Movies                   7043 non-null   object \n",
      " 19  Streaming Music                    7043 non-null   object \n",
      " 20  Unlimited Data                     7043 non-null   object \n",
      " 21  Contract                           7043 non-null   object \n",
      " 22  Paperless Billing                  7043 non-null   object \n",
      " 23  Payment Method                     7043 non-null   object \n",
      " 24  Monthly Charge                     7043 non-null   float64\n",
      " 25  Total Charges                      7043 non-null   float64\n",
      " 26  Total Refunds                      7043 non-null   float64\n",
      " 27  Total Extra Data Charges           7043 non-null   int64  \n",
      " 28  Total Long Distance Charges        7043 non-null   float64\n",
      " 29  Total Revenue                      7043 non-null   float64\n",
      "dtypes: float64(6), int64(5), object(19)\n",
      "memory usage: 1.6+ MB\n"
     ]
    }
   ],
   "source": [
    "services = duckdb_conn.execute('''SELECT * FROM tb_services''').fetch_df()\n",
    "\n",
    "\n",
    "\n",
    "services.info()"
   ]
  },
  {
   "cell_type": "code",
   "execution_count": null,
   "metadata": {},
   "outputs": [],
   "source": [
    "# Quantida de Linhas e Colunas da Tabela\n",
    "services.shape"
   ]
  },
  {
   "attachments": {},
   "cell_type": "markdown",
   "metadata": {},
   "source": [
    "### Tipos de dados\n",
    "\n",
    "Existem vários tipos de dados que podem ser armazenados em um banco de dados. Os tipos de dados mais comuns são:\n",
    "* Dados numéricos, como números inteiros (`int`) e números de ponto flutuante (`float`)\n",
    "* Dados de texto, como strings (`str`)\n",
    "* Dados de data e hora, como data, hora, data e hora e intervalo de tempo\n",
    "* Dados booleanos, que podem ser verdadeiros ou falsos (`True` ou `False`)\n",
    "\n",
    "Esses dados podem representar **variáveis** ou **atributos**. Uma variável é uma característica de um objeto, enquanto um atributo é uma característica de uma entidade. Por exemplo, se você tiver uma tabela de clientes, cada linha da tabela será um cliente e cada coluna será uma variável ou atributo do cliente. As variáveis podem ser de diferentes tipos de dados, como numéricas ou de texto.\n",
    "\n",
    "#### Variáveis numéricas\n",
    "\n",
    "Variáveis numéricas podem ser **contínuas** ou **discretas**. Variáveis contínuas podem assumir qualquer valor dentro de um intervalo, enquanto variáveis discretas podem assumir apenas valores inteiros. Por exemplo, a renda de uma pessoa é uma variável contínua, pois pode assumir qualquer valor dentro de um intervalo. Por outro lado, o número de filhos de uma pessoa é uma variável discreta, pois só pode assumir valores inteiros.\t\n",
    "\n",
    "#### Variáveis categóricas\n",
    "\n",
    "Variáveis categóricas podem assumir valores **Nominais** ou **Ordinais**. Variáveis nominais não têm uma ordem específica, enquanto variáveis ordinais têm uma ordem específica. Por exemplo, o sexo de uma pessoa é uma variável nominal, pois não há uma ordem específica entre os valores. Por outro lado, o nível de educação de uma pessoa é uma variável ordinal, pois há uma ordem específica entre os valores (por exemplo, ensino fundamental, ensino médio, ensino superior).\n",
    "\n",
    "\n",
    "#### Valores nulos\n",
    "\n",
    "Valores nulos podem indicar que os dados estão faltando ou que não existem. Por exemplo, se um cliente não tiver um número de telefone, o valor do número de telefone será nulo. Os valores nulos podem ser representados por `NULL` ou `NaN` (Not a Number)."
   ]
  },
  {
   "attachments": {},
   "cell_type": "markdown",
   "metadata": {},
   "source": [
    "### Estatísticas descritivas\n",
    "\n",
    "O método `describe()` do `pandas` mostra estatísticas descritivas sobre as **colunas numéricas** do dataframe, como a média, desvio padrão, valor mínimo e máximo, etc.\n",
    "\n",
    "```python\t\n",
    "services.describe()\n",
    "```\n",
    "\n",
    "Observe que usando esse método, já conseguimos ter algum detalhamento adicional sobre a distribuição dos dados. Mais adianta vamos utilizar o `seaborn` para visualizar essas distribuições.\n",
    "\n",
    "\n",
    "\n",
    "#### Medidas de Tendência Central\n",
    "* Mínimo: é o menor valor em um conjunto de dados.\n",
    "* Máximo: é o maior valor em um conjunto de dados.\n",
    "\n",
    "* Média: é a soma de todos os valores dividido pelo número de valores.\n",
    "<!-- Mathjax -->\n",
    "$$\\mu = \\frac{\\sum_{i=1}^{n} x_i}{n}$$\n",
    "\n",
    "* Mediana: é o valor que separa a metade superior da metade inferior de uma distribuição de dados.\n",
    "<!-- Mathjax -->\n",
    "\n",
    "$$ \\frac{1}{2} (x_{\\frac{n+1}{2}} + x_{\\frac{n+1}{2}+1})$$\n",
    "\n",
    "\n",
    "* Moda: é o valor que aparece com mais frequência em um conjunto de dados.\n",
    "<!-- Mathjax -->\n",
    "$$ \\text{Moda} = \\text{valor mais frequente}$$\n",
    "\n",
    "#### Medidas de Dispersão\n",
    "* Variância: é a média dos quadrados das diferenças entre os valores e a média.\n",
    "<!-- Mathjax -->\n",
    "$$\\sigma^2 = \\frac{\\sum_{i=1}^{n} (x_i - \\mu)^2}{n}$$\n",
    "\n",
    "* Desvio Padrão: é a raiz quadrada da variância.\n",
    "<!-- Mathjax -->\n",
    "$$\\sigma = \\sqrt{\\frac{\\sum_{i=1}^{n} (x_i - \\mu)^2}{n}}$$\n",
    "\n",
    "* Coeficiente de Variação: é o desvio padrão dividido pela média.\n",
    "<!-- Mathjax -->\n",
    "\n",
    "$$CV = \\frac{\\sigma}{\\mu}$$\n",
    "\n",
    "\n"
   ]
  },
  {
   "cell_type": "code",
   "execution_count": null,
   "metadata": {},
   "outputs": [],
   "source": [
    "services.describe()"
   ]
  },
  {
   "attachments": {},
   "cell_type": "markdown",
   "metadata": {},
   "source": [
    "### Descritivo de colunas categóricas\n",
    "\n",
    "Para inspecionar as colunas categóricas, podemos usar o método `value_counts()` do `pandas`. Esse método mostra a quantidade de valores únicos em cada coluna categórica.\n",
    "\n",
    "```python\n",
    "services['internet_service'].value_counts()\n",
    "```\n",
    "\n",
    "Foi definida uma função para facilitar a inspeção de todas as colunas categóricas, chamada `descreve_colunas` que recebe como parâmetro um dataframe e retorna um dataframe com as colunas categóricas e a quantidade de valores únicos em cada uma delas.\n"
   ]
  },
  {
   "cell_type": "code",
   "execution_count": null,
   "metadata": {},
   "outputs": [],
   "source": [
    "import re\n",
    "\n",
    "def descreve_colunas(dataframe : pd.DataFrame):\n",
    "    \"\"\" Função para descrever as colunas categóricas de um dataframe. \n",
    "        Ela imprime os valores únicos e a quantidade de valores únicos de cada coluna.\n",
    "        Só aceita objetos do tipo pandas.DataFrame.\"\"\"\n",
    "    \n",
    "    # Contagem de valores unicos para colunas categoricas\n",
    "    cat_cols = [col for col in dataframe.columns if dataframe[col].dtype not in ['int64', 'float64']]\n",
    "\n",
    "    # Looping para imprimir os valores unicos de cada coluna categorica\n",
    "    print('-----------------------')\n",
    "    print('Colunas categóricas:')\n",
    "    print(cat_cols)\n",
    "    print('-----------------------')\n",
    "\n",
    "    for col in cat_cols:\n",
    "        # contém o valor ID? Se sim, não imprime\n",
    "        if not re.search('id', col, re.IGNORECASE):  \n",
    "            # distribuição de frequencia\n",
    "            print(f'Distribuição de frequência:\\n{dataframe[col].value_counts()}')\n",
    "            print(f'Valores únicos: {dataframe[col].unique()}')\n",
    "            print(f'Quantidade de valores unicos: {len(dataframe[col].unique())}')\n",
    "            print(f'Valores nulos: {dataframe[col].isnull().sum()}')\n",
    "            print('-----------------------')\n",
    "\n",
    "descreve_colunas(services)\n",
    "\n"
   ]
  },
  {
   "attachments": {},
   "cell_type": "markdown",
   "metadata": {},
   "source": [
    "## Análise univariada\n",
    "\n",
    "A análise univariada é a análise de uma única variável (como o nome já diz). Ela pode ser feita para variáveis numéricas ou categóricas. Para variáveis numéricas, podemos visualizar a distribuição dos dados usando um histograma ou um boxplot. Para variáveis categóricas, podemos visualizar a distribuição dos dados usando um gráfico de barras.\n",
    "\n",
    "### Variáveis numéricas\n",
    "\n",
    "Visualizando a distribuição dos dados usando um histograma.\n",
    "\n",
    "```python\n",
    "services['Monthly Charge'].hist()\n",
    "```\n",
    "\n",
    "Visualizando a distribuição dos dados usando um boxplot.\n",
    "\n",
    "```python\n",
    "services['Monthly Charge'].plot(kind='box')\n",
    "```"
   ]
  },
  {
   "attachments": {},
   "cell_type": "markdown",
   "metadata": {},
   "source": [
    "#### Histograma\n",
    "\n",
    "Um histograma é um gráfico de barras que mostra a frequência de cada valor. O eixo x mostra os valores e o eixo y mostra a frequência. Por exemplo, se o eixo x mostra os valores de 0 a 10 e o eixo y mostra a frequência de cada valor, então o histograma mostra quantas vezes cada valor de 0 a 10 aparece nos dados.\n",
    "\n",
    "#### Boxplot\n",
    "\n",
    "Um boxplot é um grafico quem mostra a dispersão daquela variável. Ele mostra a mediana, o primeiro e terceiro quartil, os valores mínimo e máximo e os valores discrepantes (outliers). Os valores discrepantes são valores que estão muito distantes dos outros valores. Por exemplo, se o valor mínimo for 0 e o valor máximo for 100, então um valor discrepante seria 1000.\n",
    "\n",
    "##### Quartis\n",
    "\n",
    "Quartis são medidas descritivas que dividem os dados em quatro partes iguais. O primeiro quartil (Q1) é o valor que divide os dados em 25% e 75%. O segundo quartil (Q2) é o valor que divide os dados em 50% e 50%, **a mediana é o segundo quartil**. O terceiro quartil (Q3) é o valor que divide os dados em 75% e 25%. O primeiro quartil é a mediana dos dados menores que a mediana e o terceiro quartil é a mediana dos dados maiores que a mediana.\n",
    "\n",
    "** Distância interquartil (IQR) **\n",
    "A distância interquartil (IQR) é a diferença entre o terceiro e o primeiro quartil. Por exemplo, se o primeiro quartil for 10 e o terceiro quartil for 20, então o IQR será 10."
   ]
  },
  {
   "cell_type": "code",
   "execution_count": null,
   "metadata": {},
   "outputs": [],
   "source": [
    "# Histograma da coluna monthly_charges\n",
    "# plt.figure é uma função do matplotlib para criar uma figura\n",
    "\n",
    "plt.figure(figsize=(10, 6))\n",
    "# plt.hist é uma função do matplotlib para criar um histograma com 50 bins\n",
    "plt.hist(services['Monthly Charge'], bins=50)\n",
    "\n",
    "# plt.title é uma função do matplotlib para adicionar um título ao gráfico\n",
    "plt.title('Distribuição de frequência da coluna Monthly Charge')\n",
    "# anotar a média, mediana e moda com plt.axvline e plt.legend\n",
    "plt.axvline(services['Monthly Charge'].mean(), color='red', linestyle='dashed', linewidth=1)\n",
    "plt.axvline(services['Monthly Charge'].median(), color='green', linestyle='dashed', linewidth=1)\n",
    "plt.axvline(services['Monthly Charge'].mode()[0], color='yellow', linestyle='dashed', linewidth=1)\n",
    "plt.legend(['Média', 'Mediana', 'Moda'])\n",
    "\n",
    "# plt.xlabel é uma função do matplotlib para adicionar um título ao eixo x\n",
    "plt.xlabel('monthly_charges')\n",
    "# plt.ylabel é uma função do matplotlib para adicionar um título ao eixo y\n",
    "plt.ylabel('Frequência')\n",
    "# plt.show é uma função do matplotlib para mostrar o gráfico\n",
    "plt.show()"
   ]
  },
  {
   "cell_type": "code",
   "execution_count": null,
   "metadata": {},
   "outputs": [],
   "source": [
    "# Boxplot da coluna Monthly Charge\n",
    "plt.figure(figsize=(10, 6))\n",
    "# plt.boxplot é uma função do matplotlib para criar um boxplot\n",
    "plt.boxplot(services['Monthly Charge'])\n",
    "# anotar a média, mediana e moda com plt.axvline e plt.legend\n",
    "plt.axhline(services['Monthly Charge'].mean(), color='red', linestyle='dashed', linewidth=1)\n",
    "plt.axhline(services['Monthly Charge'].median(), color='green', linestyle='dashed', linewidth=1)\n",
    "plt.axhline(services['Monthly Charge'].mode()[0], color='yellow', linestyle='dashed', linewidth=1)\n",
    "plt.legend(['Média', 'Mediana', 'Moda'])\n",
    "\n",
    "# anotar os quartis com plt.text\n",
    "plt.text(1.1, services['Monthly Charge'].quantile(0.25), 'Q1', fontsize=12)\n",
    "plt.text(1.1, services['Monthly Charge'].quantile(0.5), 'Q2', fontsize=12)\n",
    "plt.text(1.1, services['Monthly Charge'].quantile(0.75), 'Q3', fontsize=12)\n",
    "\n",
    "plt.title('Boxplot da coluna Monthly Charge')\n",
    "plt.show()"
   ]
  },
  {
   "cell_type": "code",
   "execution_count": null,
   "metadata": {},
   "outputs": [],
   "source": [
    "# Criar um histograma e abaixo um boxplot horzontal para a coluna Total Charges subplot\n",
    "plt.figure(figsize=(10, 6))\n",
    "plt.subplot(2, 1, 1)\n",
    "plt.hist(services['Total Charges'], bins=50)\n",
    "plt.title('Distribuição de frequência da coluna Total Charges')\n",
    "plt.axvline(services['Total Charges'].mean(), color='red', linestyle='dashed', linewidth=1)\n",
    "plt.axvline(services['Total Charges'].median(), color='green', linestyle='dashed', linewidth=1)\n",
    "plt.axvline(services['Total Charges'].mode()[0], color='yellow', linestyle='dashed', linewidth=1)\n",
    "plt.legend(['Média', 'Mediana', 'Moda'])\n",
    "plt.xlabel('total_charges')\n",
    "plt.ylabel('Frequência')\n",
    "\n",
    "plt.subplot(2, 1, 2)\n",
    "# Boxplot da coluna Total Charges horizontal\n",
    "plt.boxplot(services['Total Charges'], vert=False)\n",
    "# anotar a média, mediana e moda com plt.axvline e plt.legend\n",
    "plt.axvline(services['Total Charges'].mean(), color='red', linestyle='dashed', linewidth=1)\n",
    "plt.axvline(services['Total Charges'].median(), color='green', linestyle='dashed', linewidth=1)\n",
    "plt.axvline(services['Total Charges'].mode()[0], color='yellow', linestyle='dashed', linewidth=1)\n",
    "plt.legend(['Média', 'Mediana', 'Moda'])\n",
    "plt.xlabel('total_charges')\n",
    "plt.show()\n"
   ]
  },
  {
   "attachments": {},
   "cell_type": "markdown",
   "metadata": {},
   "source": [
    "### Variáveis categóricas\n",
    "\n",
    "A Análise Univariada de variáveis categóricas pode ser feita usando um gráfico de barras. Para poder verificarmos a distribuição dos dados, podemos ordenar as barras por ordem crescente ou decrescente.\n",
    "\n",
    "```python\n",
    "services['Internet Service'].value_counts().plot(kind='bar')\n",
    "```\n"
   ]
  },
  {
   "cell_type": "code",
   "execution_count": null,
   "metadata": {},
   "outputs": [],
   "source": [
    "# Gráfico de barras para as colunas categóricas Internet Service, Offer\n",
    "plt.figure(figsize=(10, 6))\n",
    "plt.subplot(2, 2, 1)\n",
    "# Plotar um gráfico de barras para a coluna Internet Service com plt.bar\n",
    "plt.bar(services['Internet Service'].value_counts().index, services['Internet Service'].value_counts())\n",
    "plt.title('Distribuição de frequência da coluna Internet Service')\n",
    "plt.xlabel('internet_service')\n",
    "plt.ylabel('Frequência')\n",
    "\n",
    "# espaço entre os gráficos\n",
    "plt.subplots_adjust(wspace=0.5)\n",
    "\n",
    "plt.subplot(2, 2, 2)\n",
    "# grafico de barras vertical para a coluna Offer\n",
    "plt.barh(services['Offer'].value_counts().index, services['Offer'].value_counts(), color='orange')\n",
    "plt.title('Distribuição de frequência da coluna Offer')\n",
    "plt.xlabel('offer')\n",
    "plt.ylabel('Frequência')\n",
    "plt.show()"
   ]
  },
  {
   "attachments": {},
   "cell_type": "markdown",
   "metadata": {},
   "source": [
    "## Análise Bivariada\n",
    "A análise bivariada consiste na análise entre duas variáveis. Ela pode ser feita para variáveis numéricas ou categóricas. Para variáveis numéricas, podemos visualizar a distribuição dos dados usando um gráfico de dispersão. Para variáveis categóricas, podemos visualizar a distribuição dos dados usando um gráfico de barras.\n",
    "\n",
    "### Variáveis numéricas vs numéricas\n",
    "\n",
    "#### Gráfico de dispersão (Scatter plot)\n",
    "O Scatter Plot é um gráfico que mostra a relação entre duas variáveis numéricas, onde podemos começar a avaliar a correlação entre elas.\n",
    "\n",
    "\n",
    "```python\n",
    "services.plot.scatter(x='Monthly Charge', y='Total Charges')\n",
    "```\n"
   ]
  },
  {
   "cell_type": "code",
   "execution_count": null,
   "metadata": {},
   "outputs": [],
   "source": [
    "# scatterplot entre as colunas Monthly Charge e Total Charges\n",
    "plt.figure(figsize=(10, 6))\n",
    "plt.scatter(dataframe_telco['Tenure in Months'], dataframe_telco['Total Charges'])\n",
    "plt.title('Dispersão entre as colunas Tenure in Months e Total Charges')\n",
    "plt.xlabel('tenure_in_months')\n",
    "plt.ylabel('total_charges')\n",
    "plt.show()"
   ]
  },
  {
   "attachments": {},
   "cell_type": "markdown",
   "metadata": {},
   "source": [
    "\n",
    "##### Correlação e Coeficiente de Pearson\n",
    "A Correlação é uma medida que indica a força e a direção da relação entre duas variáveis. O Coeficiente de Pearson é uma medida de correlação que varia de -1 a 1. Quando o coeficiente de Pearson é 1, as duas variáveis tem uma correlação positiva perfeita, ou seja, quando uma variável aumenta, a outra também aumenta. Quando o coeficiente de Pearson é -1, as duas variáveis tem uma correlação negativa perfeita, ou seja, quando uma variável aumenta, a outra diminui. Quando o coeficiente de Pearson é 0, as duas variáveis não tem correlação, ou seja, quando uma variável aumenta, a outra não aumenta nem diminui.\n",
    "\n",
    "\n",
    "\n",
    "**Correlação de Pearson**\n",
    "\n",
    "\n",
    "$$ r = \\frac{\\sum_{i=1}^{n} (x_i - \\bar{x})(y_i - \\bar{y})}{\\sqrt{\\sum_{i=1}^{n} (x_i - \\bar{x})^2}\\sqrt{\\sum_{i=1}^{n} (y_i - \\bar{y})^2}} $$\n",
    "\n",
    "Onde: \n",
    "$$ \\bar{x} = \\frac{\\sum_{i=1}^{n} x_i}{n} $$\n",
    "$$ \\bar{y} = \\frac{\\sum_{i=1}^{n} y_i}{n} $$\n",
    "$$ n = \\text{tamanho da amostra} $$\n",
    "$$ x_i = \\text{valor da variável x na posição i} $$\n",
    "$$ y_i = \\text{valor da variável y na posição i} $$\n",
    "$$ r = \\text{coeficiente de Pearson} $$\n",
    "$$ \\sum_{i=1}^{n} = \\text{soma de i=1 até n} $$\n",
    "\n",
    "\n",
    "#### Matriz de correlação\n",
    "A matriz de correlação é uma tabela que mostra a correlação entre todas as variáveis numéricas. Ela é muito útil para vermos quais variáveis tem uma correlação maior com a variável que queremos prever.\n",
    "\n",
    "```python\n",
    "services.corr()\n",
    "```\n",
    "\n",
    "##### Heatmap\n",
    "O Heatmap é um gráfico que mostra a matriz de correlação de uma forma mais visual. Ele mostra a correlação entre todas as variáveis numéricas usando cores. Quanto mais próximo de 1, mais forte é a correlação positiva. Quanto mais próximo de -1, mais forte é a correlação negativa. Quanto mais próximo de 0, mais fraca é a correlação.\n",
    "\n",
    "```python\n",
    "import seaborn as sns\n",
    "sns.heatmap(services.corr(), annot=True)\n",
    "```"
   ]
  },
  {
   "cell_type": "code",
   "execution_count": null,
   "metadata": {},
   "outputs": [],
   "source": [
    "# scatterplot entre as colunas Tenure in Months e Total Charges com seaborn\n",
    "plt.figure(figsize=(10, 6))\n",
    "sns.regplot(x='Tenure in Months', y='Total Charges', data=dataframe_telco, line_kws={'color': 'red'})\n",
    "plt.title('Dispersão entre as colunas Tenure in Months e Total Charges')\n",
    "# correlação entre as colunas Tenure in Months e Total Charges na legenda\n",
    "plt.legend([f'Correlação: {np.round(dataframe_telco[\"Tenure in Months\"].corr(dataframe_telco[\"Total Charges\"]), 2)}'])\n",
    "plt.xlabel('tenure_in_months')\n",
    "plt.ylabel('total_charges')\n",
    "plt.show()\n"
   ]
  },
  {
   "cell_type": "code",
   "execution_count": null,
   "metadata": {},
   "outputs": [],
   "source": [
    "# selecionar as colunas numéricas com services.select_dtypes\n",
    "num_cols = services.drop(columns=[\"Count\"]).select_dtypes(include=np.number).columns\n",
    "\n",
    "services.corr(numeric_only=True)"
   ]
  },
  {
   "cell_type": "code",
   "execution_count": null,
   "metadata": {},
   "outputs": [],
   "source": [
    "\n",
    "# heatmap da correlação entre as colunas do dataframe_telco com as correlações mais fortes\n",
    "plt.figure(figsize=(10, 6))\n",
    "\n",
    "# criar um heatmap com sns.heatmap\n",
    "sns.heatmap(services[num_cols].corr(numeric_only=True), annot=True, cmap='Greens', fmt='.2f')"
   ]
  },
  {
   "attachments": {},
   "cell_type": "markdown",
   "metadata": {},
   "source": [
    "### Variáveis categóricas vs numéricas\n",
    "\n",
    "Também podemos avaliar a relação entre duas variáveis, onde uma é categórica e a outra é numérica. Podemos usar o Boxplot para ver a média, mediana, moda, mínimo, máximo, etc. de uma variável numérica para cada valor da variável categórica.\n",
    "\n",
    "```python\n",
    "services.boxplot(column='Monthly Charge', by='Offer')\n",
    "```"
   ]
  },
  {
   "cell_type": "code",
   "execution_count": null,
   "metadata": {},
   "outputs": [],
   "source": [
    "# boxplot da coluna Total Charges para cada categoria da coluna Offer\n",
    "plt.figure(figsize=(10, 6))\n",
    "sns.boxplot(x='Offer', y='Total Charges', data=dataframe_telco)\n",
    "plt.title('Boxplot da coluna Total Charges para cada categoria da coluna Offer')"
   ]
  }
 ],
 "metadata": {
  "kernelspec": {
   "display_name": "Python 3",
   "language": "python",
   "name": "python3"
  },
  "language_info": {
   "codemirror_mode": {
    "name": "ipython",
    "version": 3
   },
   "file_extension": ".py",
   "mimetype": "text/x-python",
   "name": "python",
   "nbconvert_exporter": "python",
   "pygments_lexer": "ipython3",
   "version": "3.10.6"
  },
  "orig_nbformat": 4
 },
 "nbformat": 4,
 "nbformat_minor": 2
}
